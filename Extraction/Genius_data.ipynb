{
 "cells": [
  {
   "cell_type": "code",
   "execution_count": null,
   "metadata": {},
   "outputs": [],
   "source": [
    "import csv\n",
    "import lyricsgenius\n",
    "\n",
    "genius = lyricsgenius.Genius(\n",
    "    \"***\",\n",
    "    remove_section_headers=True,timeout=15\n",
    ")\n",
    "\n",
    "\n",
    "def get_lyrics_from_csv(input_csv, output_csv):\n",
    "    with open(input_csv, \"r\", encoding=\"utf-8\") as file, open(\n",
    "        output_csv, \"w\", newline=\"\", encoding=\"utf-8\"\n",
    "    ) as out_file:\n",
    "         \n",
    "        file.readline()\n",
    "        csv_writer = csv.writer(out_file)\n",
    "        csv_writer.writerow([\"Artist\", \"Song\", \"Lyrics\"])  # Write header row\n",
    "        for row in file:\n",
    "            row = row.split(\",\")\n",
    "            artist = row[3].strip()\n",
    "            song_title = row[2].strip()\n",
    "            lyrics = get_lyrics(artist, song_title)\n",
    "            lyrics = lyrics[lyrics.find(\"Lyrics\") + 7 :].replace(\"\\n\", \" \")\n",
    "            csv_writer.writerow([artist, song_title, lyrics])\n",
    "\n",
    "\n",
    "def get_lyrics(artist, song_title):\n",
    "    try:\n",
    "        song = genius.search_song(song_title, artist)\n",
    "        if song:\n",
    "            print(f\"Artist: {artist}\")\n",
    "            print(f\"Song: {song_title}\")\n",
    "            return song.lyrics\n",
    "        else:\n",
    "            print(f\"Song '{song_title}' by '{artist}' not found.\")\n",
    "            return \"Lyrics not found\"\n",
    "    except Exception as e:\n",
    "        print(f\"Error: {e}\")\n",
    "        return \"Error fetching lyrics\"\n",
    "\n",
    "input_csv = 'in/tables/nomineeswinners.csv' \n",
    "output_csv = 'out/tables/lyrics1.csv'\n",
    "get_lyrics_from_csv(input_csv, output_csv)\n"
   ]
  }
 ],
 "metadata": {
  "language_info": {
   "name": "python"
  }
 },
 "nbformat": 4,
 "nbformat_minor": 2
}
