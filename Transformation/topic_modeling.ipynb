{
 "cells": [
  {
   "cell_type": "code",
   "execution_count": null,
   "metadata": {},
   "outputs": [],
   "source": [
    "import pandas as pd\n",
    "import nltk\n",
    "import os\n",
    "\n",
    "from sklearn.feature_extraction.text import TfidfVectorizer\n",
    "from sklearn.decomposition import NMF\n",
    "\n",
    "input_csv = \"in/tables/filtered_lyrics.csv\"\n",
    "output_csv = \"out/tables/topics_songs.csv\"\n",
    "output_csv_topics = \"out/tables/topics_words.csv\"\n",
    "\n",
    "df = pd.read_csv(input_csv, encoding='utf-8')\n",
    "vectorizer = TfidfVectorizer(min_df = 0.1)\n",
    "tfidf = vectorizer.fit_transform(df['filtered_lyrics'])\n",
    "\n",
    "nmf = NMF(n_components = 6)\n",
    "topic_values = nmf.fit_transform(tfidf)\n",
    "\n",
    "topics = []\n",
    "# Iterate over each topic\n",
    "for topic_num, topic in enumerate(nmf.components_):\n",
    "    # Generate topic name\n",
    "    topic_name = \"Topic #{}\".format(topic_num + 1)\n",
    "    # Extract top 10 terms for the topic and join them into a string\n",
    "    topic_words = \" \".join([vectorizer.get_feature_names_out()[i] for i in topic.argsort()[:-11:-1]])\n",
    "    # Add topic as a dictionary to the list\n",
    "    topics.append({'Topic': topic_name, 'Words': topic_words})\n",
    "\n",
    "# Create DataFrame for topics\n",
    "df_topics_to_csv = pd.DataFrame(topics)\n",
    "\n",
    "# Save DataFrame to CSV file\n",
    "df_topics_to_csv.to_csv(output_csv_topics, index=False, encoding='utf-8')\n",
    "\n",
    "topic_labels = [\"Topic #1\",\"Topic #2\",\"Topic #3\",\"Topic #4\",\"Topic #5\",\"Topic #6\"]\n",
    "df_topics = pd.DataFrame(topic_values, columns = topic_labels)\n",
    "songs = df.join(df_topics)\n",
    "df = pd.DataFrame(songs)\n",
    "\n",
    "# define tne main topik in song\n",
    "df[\"topic\"] = df[[\"Topic #1\",\"Topic #2\",\"Topic #3\",\"Topic #4\",\"Topic #5\",\"Topic #6\"]].idxmax(axis=1)\n",
    "df = df[['song', 'artist', 'topic']]\n",
    "df.to_csv(output_csv,index=False,encoding='utf-8')"
   ]
  }
 ],
 "metadata": {
  "language_info": {
   "name": "python"
  }
 },
 "nbformat": 4,
 "nbformat_minor": 2
}
