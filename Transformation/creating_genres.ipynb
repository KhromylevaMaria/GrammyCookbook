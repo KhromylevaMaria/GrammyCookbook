{
 "cells": [
  {
   "cell_type": "code",
   "execution_count": null,
   "metadata": {},
   "outputs": [],
   "source": [
    "import csv\n",
    "\n",
    "input_csv_file = 'out/tables/spotify.csv'\n",
    "output_csv_file = 'out/tables/songs_by_genre.csv'\n",
    "\n",
    "# Opening the input CSV file\n",
    "with open(input_csv_file, mode='r', newline='') as infile:\n",
    "    reader = csv.DictReader(infile)\n",
    "    transformed_data = []\n",
    "    \n",
    "    # Processing each row in the input CSV file\n",
    "    for row in reader:\n",
    "        # Assuming the genres are stored in a format like \"[Genre1,Genre2,Genre3]\"\n",
    "        # Removing unwanted characters and splitting by comma\n",
    "        genres = row['genre'].replace('[', '').replace(']', '').replace(\"'\", \"\").split(',')\n",
    "        for genre in genres:\n",
    "            # Stripping whitespace and adding each genre to the transformed data\n",
    "            transformed_data.append({\n",
    "                \"artist\": row[\"artist\"],\n",
    "                \"song\": row[\"song\"],\n",
    "                \"genre\": genre.strip()\n",
    "            })\n",
    "\n",
    "# Writing the new CSV file\n",
    "with open(output_csv_file, mode='w', newline='') as outfile:\n",
    "    fieldnames = [\"artist\", \"song\", \"genre\"]\n",
    "    writer = csv.DictWriter(outfile, fieldnames=fieldnames)\n",
    "    writer.writeheader()\n",
    "    for row in transformed_data:\n",
    "        writer.writerow(row)"
   ]
  }
 ],
 "metadata": {
  "language_info": {
   "name": "python"
  }
 },
 "nbformat": 4,
 "nbformat_minor": 2
}
