{
 "cells": [
  {
   "cell_type": "code",
   "execution_count": null,
   "metadata": {},
   "outputs": [],
   "source": [
    "import csv\n",
    "\n",
    "# transforming features\n",
    "\n",
    "input_csv_file = 'out/tables/spotify.csv'\n",
    "output_csv_file = 'out/tables/feature_song.csv'\n",
    "\n",
    "feature_fields = [\n",
    "    \"danceability\",\n",
    "    \"energy\",\n",
    "    \"key\",\n",
    "    \"loudness\",\n",
    "    \"mode\",\n",
    "    \"speechiness\",\n",
    "    \"acousticness\",\n",
    "    \"instrumentalness\",\n",
    "    \"liveness\",\n",
    "    \"valence\",\n",
    "    \"tempo\",\n",
    "    \"duration_ms\",\n",
    "    \"time_signature\",\n",
    "]\n",
    "\n",
    "with open(input_csv_file, mode='r', newline='') as infile:\n",
    "    reader = csv.DictReader(infile)\n",
    "    transformed_data = []\n",
    "    \n",
    "    for row in reader:\n",
    "        for feature in feature_fields:\n",
    "            transformed_data.append({\n",
    "                \"artist\": row[\"artist\"],\n",
    "                \"song\": row[\"song\"],\n",
    "                \"feature\": feature,\n",
    "                \"value\": row[feature]\n",
    "            })\n",
    "\n",
    "with open(output_csv_file, mode='w', newline='') as outfile:\n",
    "    fieldnames = [\"artist\", \"song\", \"feature\", \"value\"]\n",
    "    writer = csv.DictWriter(outfile, fieldnames=fieldnames)\n",
    "    writer.writeheader()\n",
    "    for row in transformed_data:\n",
    "        writer.writerow(row)"
   ]
  }
 ],
 "metadata": {
  "language_info": {
   "name": "python"
  }
 },
 "nbformat": 4,
 "nbformat_minor": 2
}
