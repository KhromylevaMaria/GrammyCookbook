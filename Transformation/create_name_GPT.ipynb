{
 "cells": [
  {
   "cell_type": "code",
   "execution_count": null,
   "metadata": {},
   "outputs": [],
   "source": [
    "import os\n",
    "import openai\n",
    "import csv\n",
    "\n",
    "openai.api_key = \"***\"\n",
    "\n",
    "def classify_text(text):\n",
    "    response = openai.ChatCompletion.create(\n",
    "        model=\"gpt-4\",  # Specify the GPT-4 model\n",
    "        messages=[\n",
    "            {\n",
    "                \"role\": \"system\",\n",
    "                \"content\": \"You are a knowledgeable assistant who classifies text topics.\",\n",
    "            },\n",
    "            {\n",
    "                \"role\": \"user\",\n",
    "                \"content\": f'Try to find common theme of these words and find a short and fun name consisting of 2-3 words without using words: abstract, random? \"{text}\"',\n",
    "            },\n",
    "        ],\n",
    "        max_tokens=60,\n",
    "    )\n",
    "    return response[\"choices\"][0][\"message\"][\"content\"].strip()\n",
    "\n",
    "\n",
    "def read_and_classify(input_file, output_file):\n",
    "    with open(input_file, \"r\", encoding=\"utf-8\") as infile, open(\n",
    "        output_file,\"w\", newline=\"\", encoding=\"utf-8\"\n",
    "    ) as outfile:\n",
    "        reader = csv.reader(infile)\n",
    "        next(reader, None)\n",
    "        writer = csv.writer(outfile)  \n",
    "        writer.writerow([\"topic\", \"name\",\"text\"])  # Write header in the output file\n",
    "        for row in reader:\n",
    "            if len(row) > 0:  # Check to make sure the row isn't empty\n",
    "                text = row[1]\n",
    "                original_topic = classify_text(text)\n",
    "                writer.writerow([row[0], original_topic, row[1]])\n",
    "            else:\n",
    "                writer.writerow([\"\", \"Empty row\"])\n",
    "\n",
    "input_filename = \"in/tables/topics_words.csv\"\n",
    "output_filename = \"out/tables/topics_words_names.csv\"\n",
    "\n",
    "read_and_classify(input_filename, output_filename)\n"
   ]
  }
 ],
 "metadata": {
  "language_info": {
   "name": "python"
  }
 },
 "nbformat": 4,
 "nbformat_minor": 2
}
